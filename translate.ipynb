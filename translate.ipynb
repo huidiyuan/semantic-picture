{
 "cells": [
  {
   "cell_type": "markdown",
   "id": "a9018676",
   "metadata": {},
   "source": [
    "# Translation (OpenAI api)\n",
    "Steps: \n",
    "1. Data cleaning\n",
    "    1. read data\n",
    "    2. extract \"input\" column of text only\n",
    "2. Translation\n",
    "    1. request OpenAI api\n",
    "    2. translate into another column\n",
    "3. Evaluation\n",
    "    1. compare translation and original text, evaluate translation quality"
   ]
  },
  {
   "cell_type": "code",
   "execution_count": 22,
   "id": "145211a5",
   "metadata": {},
   "outputs": [
    {
     "name": "stdout",
     "output_type": "stream",
     "text": [
      "   Unnamed: 0   ID  picIndex  eff_word input  pic_num     rt  rt_adjust  \\\n",
      "0         801  101        77         1    对称        1  77197      77197   \n",
      "1         802  101        77         2  色彩柔和        1  27238      27238   \n",
      "2         803  101        77         3  金碧辉煌        1  19496      19496   \n",
      "3         804  101        77         4  暮色如雪        1  57735      57735   \n",
      "4         805  101        77         5  湖光辉映        1  16576      16576   \n",
      "\n",
      "   foreign  set      logrt    normrt   coordCP    pickCP  \n",
      "0        0    1  11.254116  2.797662  0.330589  0.402072  \n",
      "1        0    1  10.212368  1.359849  0.330589  0.402072  \n",
      "2        0    1   9.877965  0.898307  0.330589  0.402072  \n",
      "3        0    1  10.963619  2.396720  0.330589  0.402072  \n",
      "4        0    1   9.715711  0.674366  0.330589  0.402072  \n"
     ]
    }
   ],
   "source": [
    "import numpy as np\n",
    "import os, pandas as pd\n",
    "\n",
    "# read data\n",
    "df = pd.read_csv('picDescription.csv')\n",
    "print(df.head())\n"
   ]
  },
  {
   "cell_type": "code",
   "execution_count": 23,
   "id": "aa2c459e",
   "metadata": {},
   "outputs": [],
   "source": [
    "# Add a word_ID column based on row index\n",
    "df['word_id'] = df.index + 1  # Start IDs from 1"
   ]
  },
  {
   "cell_type": "code",
   "execution_count": 24,
   "id": "bcac15c9",
   "metadata": {},
   "outputs": [
    {
     "name": "stdout",
     "output_type": "stream",
     "text": [
      "   word_id input\n",
      "0        1    对称\n",
      "1        2  色彩柔和\n",
      "2        3  金碧辉煌\n",
      "3        4  暮色如雪\n",
      "4        5  湖光辉映\n"
     ]
    }
   ],
   "source": [
    "# Extract \"input\" column into a new df\n",
    "words_df = df[['word_id','input']]\n",
    "print(words_df.head())"
   ]
  },
  {
   "cell_type": "code",
   "execution_count": 33,
   "id": "feb5f94e",
   "metadata": {},
   "outputs": [
    {
     "name": "stdout",
     "output_type": "stream",
     "text": [
      "   word_id input\n",
      "0    40593    钦佩\n",
      "1    15884  高耸入云\n",
      "2    51274    历史\n",
      "3    49902    恬淡\n",
      "4    92099    修补\n"
     ]
    }
   ],
   "source": [
    "# Biuld a test set\n",
    "test_df = words_df.sample(n=5, random_state=5).reset_index(drop=True)\n",
    "print(test_df)"
   ]
  },
  {
   "cell_type": "code",
   "execution_count": null,
   "id": "d9cd1726",
   "metadata": {},
   "outputs": [],
   "source": [
    "# install tenacity and openai\n",
    "# !pip install tenacity openai"
   ]
  },
  {
   "cell_type": "code",
   "execution_count": null,
   "id": "e570f9d3",
   "metadata": {},
   "outputs": [],
   "source": [
    "from tqdm import tqdm\n",
    "from tenacity import retry, stop_after_attempt, wait_exponential\n",
    "from openai import OpenAI"
   ]
  },
  {
   "cell_type": "code",
   "execution_count": null,
   "id": "73d807ae",
   "metadata": {},
   "outputs": [],
   "source": [
    "# 0) setup\n",
    "os.environ[\"OPENAI_API_KEY\"] = \"YOUR_API_KEY\"  # or use a .env file\n",
    "client = OpenAI()"
   ]
  },
  {
   "cell_type": "code",
   "execution_count": 27,
   "id": "459d27db",
   "metadata": {},
   "outputs": [],
   "source": [
    "# 1) load data and set columns\n",
    "# words_df\n",
    "df = test_df.copy()\n",
    "col_in = \"input\"\n",
    "col_out = \"output_EN\""
   ]
  },
  {
   "cell_type": "code",
   "execution_count": null,
   "id": "3a96b3b2",
   "metadata": {},
   "outputs": [],
   "source": [
    "# 2) a style guardrails\n",
    "STYLE = (\n",
    "    \"Translate to natural, formal English. \"\n",
    "    \"Ensure the translation is accurate and preserves the original meaning. \"\n",
    "    # \"Regardless of the number of input characters, translate each input into 1 English word.\"\n",
    ")"
   ]
  }
 ],
 "metadata": {
  "kernelspec": {
   "display_name": "3.11.7",
   "language": "python",
   "name": "python3"
  },
  "language_info": {
   "codemirror_mode": {
    "name": "ipython",
    "version": 3
   },
   "file_extension": ".py",
   "mimetype": "text/x-python",
   "name": "python",
   "nbconvert_exporter": "python",
   "pygments_lexer": "ipython3",
   "version": "3.11.7"
  }
 },
 "nbformat": 4,
 "nbformat_minor": 5
}
